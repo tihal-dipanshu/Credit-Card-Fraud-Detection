{
 "cells": [
  {
   "cell_type": "code",
   "execution_count": 2,
   "metadata": {
    "_cell_guid": "29482ddf-c69b-4f11-a29c-f29e29b68c06",
    "_uuid": "6c3b843e57133a6ae26f72e42f8c754371ee5e14",
    "tags": []
   },
   "outputs": [
    {
     "ename": "SyntaxError",
     "evalue": "(unicode error) 'unicodeescape' codec can't decode bytes in position 2-3: truncated \\UXXXXXXXX escape (<ipython-input-2-756bac448a32>, line 8)",
     "output_type": "error",
     "traceback": [
      "\u001b[1;36m  File \u001b[1;32m\"<ipython-input-2-756bac448a32>\"\u001b[1;36m, line \u001b[1;32m8\u001b[0m\n\u001b[1;33m    df = pd.read_csv('C:\\Users\\tihal\\Downloads\\FOM Dump\\cred\\creditcard.csv')\u001b[0m\n\u001b[1;37m                                                                            ^\u001b[0m\n\u001b[1;31mSyntaxError\u001b[0m\u001b[1;31m:\u001b[0m (unicode error) 'unicodeescape' codec can't decode bytes in position 2-3: truncated \\UXXXXXXXX escape\n"
     ]
    }
   ],
   "source": [
    "import numpy as np\n",
    "import pandas as pd\n",
    "import matplotlib.pyplot as plt\n",
    "import seaborn as sns\n",
    "sns.set()\n",
    "%matplotlib inline\n",
    "\n",
    "df = pd.read_csv('C:\\Users\\tihal\\Downloads\\FOM Dump\\cred\\creditcard.csv')\n",
    "print(df.shape)\n",
    "df.head()"
   ]
  },
  {
   "cell_type": "code",
   "execution_count": 2,
   "metadata": {
    "_cell_guid": "523053d7-cfb3-4867-99f3-af4e6e14d2ee",
    "_uuid": "19ebd704405c32bc530de0194d47e1000e3ea5ff",
    "execution": {
     "iopub.execute_input": "2022-01-11T06:40:44.258147Z",
     "iopub.status.busy": "2022-01-11T06:40:44.257834Z",
     "iopub.status.idle": "2022-01-11T06:40:44.404019Z",
     "shell.execute_reply": "2022-01-11T06:40:44.403297Z",
     "shell.execute_reply.started": "2022-01-11T06:40:44.258090Z"
    }
   },
   "outputs": [],
   "source": [
    "df.info()"
   ]
  },
  {
   "cell_type": "code",
   "execution_count": 3,
   "metadata": {
    "_cell_guid": "df468b46-c71d-48aa-9210-031d889e6caa",
    "_uuid": "b3942380600e6867f0ea092030c0356b8ba6e20a",
    "execution": {
     "iopub.execute_input": "2022-01-11T06:40:47.529273Z",
     "iopub.status.busy": "2022-01-11T06:40:47.529000Z",
     "iopub.status.idle": "2022-01-11T06:40:48.171273Z",
     "shell.execute_reply": "2022-01-11T06:40:48.170588Z",
     "shell.execute_reply.started": "2022-01-11T06:40:47.529237Z"
    }
   },
   "outputs": [],
   "source": [
    "df.describe()\n"
   ]
  },
  {
   "cell_type": "markdown",
   "metadata": {
    "_cell_guid": "41fd5cb0-0fb1-4f98-84c2-ba41735bfc19",
    "_uuid": "d749f4483bd5555ba78c7a8dddaa20f840931e0d"
   },
   "source": [
    "## How many are fraud and how many are not fraud ?"
   ]
  },
  {
   "cell_type": "code",
   "execution_count": 4,
   "metadata": {
    "_cell_guid": "f64d4ecf-55e3-4c1e-9c80-4c68bbb888c8",
    "_uuid": "09c4d668b9f5f279966ae75a695d108dce140d5b",
    "execution": {
     "iopub.execute_input": "2022-01-11T06:40:51.080349Z",
     "iopub.status.busy": "2022-01-11T06:40:51.079867Z",
     "iopub.status.idle": "2022-01-11T06:40:51.090357Z",
     "shell.execute_reply": "2022-01-11T06:40:51.089631Z",
     "shell.execute_reply.started": "2022-01-11T06:40:51.080125Z"
    }
   },
   "outputs": [],
   "source": [
    "class_names = {0:'Not Fraud', 1:'Fraud'}\n",
    "print(df.Class.value_counts().rename(index = class_names))"
   ]
  },
  {
   "cell_type": "markdown",
   "metadata": {
    "_cell_guid": "cb876754-9aad-4800-bf38-eda689339b4a",
    "_uuid": "9f99e007bae55e8075c49fe71809a515d6cf0446"
   },
   "source": [
    "## Plotting the variables using subplots"
   ]
  },
  {
   "cell_type": "code",
   "execution_count": 5,
   "metadata": {
    "_cell_guid": "8be814dd-6dc1-42af-af45-6cb4716acfc3",
    "_uuid": "08ea9fc7132d880624a7859832e8024d7e183cbb",
    "execution": {
     "iopub.execute_input": "2022-01-11T06:40:53.687526Z",
     "iopub.status.busy": "2022-01-11T06:40:53.687171Z",
     "iopub.status.idle": "2022-01-11T06:40:57.732901Z",
     "shell.execute_reply": "2022-01-11T06:40:57.731606Z",
     "shell.execute_reply.started": "2022-01-11T06:40:53.687444Z"
    }
   },
   "outputs": [],
   "source": [
    "fig = plt.figure(figsize = (15, 12))\n",
    "\n",
    "plt.subplot(5, 6, 1) ; plt.plot(df.V1) ; plt.subplot(5, 6, 15) ; plt.plot(df.V15)\n",
    "plt.subplot(5, 6, 2) ; plt.plot(df.V2) ; plt.subplot(5, 6, 16) ; plt.plot(df.V16)\n",
    "plt.subplot(5, 6, 3) ; plt.plot(df.V3) ; plt.subplot(5, 6, 17) ; plt.plot(df.V17)\n",
    "plt.subplot(5, 6, 4) ; plt.plot(df.V4) ; plt.subplot(5, 6, 18) ; plt.plot(df.V18)\n",
    "plt.subplot(5, 6, 5) ; plt.plot(df.V5) ; plt.subplot(5, 6, 19) ; plt.plot(df.V19)\n",
    "plt.subplot(5, 6, 6) ; plt.plot(df.V6) ; plt.subplot(5, 6, 20) ; plt.plot(df.V20)\n",
    "plt.subplot(5, 6, 7) ; plt.plot(df.V7) ; plt.subplot(5, 6, 21) ; plt.plot(df.V21)\n",
    "plt.subplot(5, 6, 8) ; plt.plot(df.V8) ; plt.subplot(5, 6, 22) ; plt.plot(df.V22)\n",
    "plt.subplot(5, 6, 9) ; plt.plot(df.V9) ; plt.subplot(5, 6, 23) ; plt.plot(df.V23)\n",
    "plt.subplot(5, 6, 10) ; plt.plot(df.V10) ; plt.subplot(5, 6, 24) ; plt.plot(df.V24)\n",
    "plt.subplot(5, 6, 11) ; plt.plot(df.V11) ; plt.subplot(5, 6, 25) ; plt.plot(df.V25)\n",
    "plt.subplot(5, 6, 12) ; plt.plot(df.V12) ; plt.subplot(5, 6, 26) ; plt.plot(df.V26)\n",
    "plt.subplot(5, 6, 13) ; plt.plot(df.V13) ; plt.subplot(5, 6, 27) ; plt.plot(df.V27)\n",
    "plt.subplot(5, 6, 14) ; plt.plot(df.V14) ; plt.subplot(5, 6, 28) ; plt.plot(df.V28)\n",
    "plt.subplot(5, 6, 29) ; plt.plot(df.Amount)\n",
    "plt.show()"
   ]
  },
  {
   "cell_type": "code",
   "execution_count": 7,
   "metadata": {
    "_cell_guid": "b92c5110-d797-4c0b-8d4a-fa99750d9327",
    "_uuid": "23fa3f706dacb182ac80bca2d43566cea1452fd9",
    "execution": {
     "iopub.execute_input": "2022-01-11T06:41:11.145887Z",
     "iopub.status.busy": "2022-01-11T06:41:11.145307Z",
     "iopub.status.idle": "2022-01-11T06:41:11.149506Z",
     "shell.execute_reply": "2022-01-11T06:41:11.148904Z",
     "shell.execute_reply.started": "2022-01-11T06:41:11.145834Z"
    }
   },
   "outputs": [],
   "source": [
    "from sklearn.model_selection import train_test_split\n"
   ]
  },
  {
   "cell_type": "code",
   "execution_count": 8,
   "metadata": {
    "_uuid": "0865151963b5c0ee38c47417247e307e4b772ab0",
    "execution": {
     "iopub.execute_input": "2022-01-11T06:41:14.291635Z",
     "iopub.status.busy": "2022-01-11T06:41:14.291054Z",
     "iopub.status.idle": "2022-01-11T06:41:14.352666Z",
     "shell.execute_reply": "2022-01-11T06:41:14.351838Z",
     "shell.execute_reply.started": "2022-01-11T06:41:14.291581Z"
    }
   },
   "outputs": [],
   "source": [
    "feature_names = df.iloc[:, 1:30].columns\n",
    "target = df.iloc[:1, 30: ].columns\n",
    "print(feature_names)\n",
    "print(target)"
   ]
  },
  {
   "cell_type": "code",
   "execution_count": 9,
   "metadata": {
    "_uuid": "a37acd4abaee20b28a863a2f19addf433a20d3dd",
    "execution": {
     "iopub.execute_input": "2022-01-11T06:41:16.866897Z",
     "iopub.status.busy": "2022-01-11T06:41:16.866326Z",
     "iopub.status.idle": "2022-01-11T06:41:16.917835Z",
     "shell.execute_reply": "2022-01-11T06:41:16.916992Z",
     "shell.execute_reply.started": "2022-01-11T06:41:16.866846Z"
    }
   },
   "outputs": [],
   "source": [
    "data_features = df[feature_names]\n",
    "data_target = df[target]"
   ]
  },
  {
   "cell_type": "code",
   "execution_count": 10,
   "metadata": {
    "_uuid": "f4689f7759f500506e0b46b4fdec0f7a1f56548e",
    "execution": {
     "iopub.execute_input": "2022-01-11T06:41:20.187692Z",
     "iopub.status.busy": "2022-01-11T06:41:20.187067Z",
     "iopub.status.idle": "2022-01-11T06:41:20.318894Z",
     "shell.execute_reply": "2022-01-11T06:41:20.317929Z",
     "shell.execute_reply.started": "2022-01-11T06:41:20.187622Z"
    }
   },
   "outputs": [],
   "source": [
    "X_train, X_test, y_train, y_test = train_test_split(data_features, data_target, train_size=0.70, test_size=0.30, random_state=1)\n",
    "print(\"Length of X_train is: {X_train}\".format(X_train = len(X_train)))\n",
    "print(\"Length of X_test is: {X_test}\".format(X_test = len(X_test)))\n",
    "print(\"Length of y_train is: {y_train}\".format(y_train = len(y_train)))\n",
    "print(\"Length of y_test is: {y_test}\".format(y_test = len(y_test)))"
   ]
  },
  {
   "cell_type": "code",
   "execution_count": 11,
   "metadata": {
    "_uuid": "b5565440c6f32b96e3954f11bed3b4ed1c814a2c",
    "execution": {
     "iopub.execute_input": "2022-01-11T06:41:22.761623Z",
     "iopub.status.busy": "2022-01-11T06:41:22.761029Z",
     "iopub.status.idle": "2022-01-11T06:41:22.874064Z",
     "shell.execute_reply": "2022-01-11T06:41:22.873381Z",
     "shell.execute_reply.started": "2022-01-11T06:41:22.761554Z"
    }
   },
   "outputs": [],
   "source": [
    "from sklearn.linear_model import LogisticRegression\n",
    "from sklearn.metrics import confusion_matrix"
   ]
  },
  {
   "cell_type": "code",
   "execution_count": 12,
   "metadata": {
    "_uuid": "a96a6494c1d70421a33d10fc72eaed743076e310",
    "execution": {
     "iopub.execute_input": "2022-01-11T06:41:27.178973Z",
     "iopub.status.busy": "2022-01-11T06:41:27.178678Z",
     "iopub.status.idle": "2022-01-11T06:41:33.311252Z",
     "shell.execute_reply": "2022-01-11T06:41:33.310452Z",
     "shell.execute_reply.started": "2022-01-11T06:41:27.178930Z"
    }
   },
   "outputs": [],
   "source": [
    "model = LogisticRegression()\n",
    "model.fit(X_train, y_train.values.ravel())"
   ]
  },
  {
   "cell_type": "code",
   "execution_count": 13,
   "metadata": {
    "_uuid": "4a2d6800f5af7d3189c7c9ea9657ca93d7040de9",
    "execution": {
     "iopub.execute_input": "2022-01-11T06:41:43.249972Z",
     "iopub.status.busy": "2022-01-11T06:41:43.249682Z",
     "iopub.status.idle": "2022-01-11T06:41:43.258690Z",
     "shell.execute_reply": "2022-01-11T06:41:43.257952Z",
     "shell.execute_reply.started": "2022-01-11T06:41:43.249917Z"
    }
   },
   "outputs": [],
   "source": [
    "pred = model.predict(X_test)"
   ]
  },
  {
   "cell_type": "code",
   "execution_count": 14,
   "metadata": {
    "_uuid": "649947e70143d5d16c40eb8c8ec524290b371c33",
    "execution": {
     "iopub.execute_input": "2022-01-11T06:42:07.756670Z",
     "iopub.status.busy": "2022-01-11T06:42:07.756138Z",
     "iopub.status.idle": "2022-01-11T06:42:08.021998Z",
     "shell.execute_reply": "2022-01-11T06:42:08.021148Z",
     "shell.execute_reply.started": "2022-01-11T06:42:07.756614Z"
    }
   },
   "outputs": [],
   "source": [
    "class_names = ['not_fraud', 'fraud']\n",
    "matrix = confusion_matrix(y_test, pred)\n",
    "# Create pandas dataframe\n",
    "dataframe = pd.DataFrame(matrix, index=class_names, columns=class_names)\n",
    "# Create heatmap\n",
    "sns.heatmap(dataframe, annot=True, cbar=None, cmap=\"Blues\", fmt = 'g')\n",
    "plt.title(\"Confusion Matrix\"), plt.tight_layout()\n",
    "plt.ylabel(\"True Class\"), plt.xlabel(\"Predicted Class\")\n",
    "plt.show()"
   ]
  },
  {
   "cell_type": "markdown",
   "metadata": {
    "_uuid": "cafe5485e311102af6bedf1428b0ef2e0d77ddbf"
   },
   "source": [
    "## Evaluation\n",
    "For a financial institution dealing with identifying fraud, Sensitivity and F1 - Score might be more important metrics. F1- Score reprsents a more balanced result as it is the harmonic mean between Precision and Recall. Sensitivity is more important in the sense that we are more interested in identifying fraud than than identifying legitimate customers. ( Assumption )"
   ]
  },
  {
   "cell_type": "code",
   "execution_count": 15,
   "metadata": {
    "_uuid": "c754b4bbb68afc4496aa68da24864ced818c3210",
    "execution": {
     "iopub.execute_input": "2022-01-11T06:42:14.873495Z",
     "iopub.status.busy": "2022-01-11T06:42:14.873171Z",
     "iopub.status.idle": "2022-01-11T06:42:14.913927Z",
     "shell.execute_reply": "2022-01-11T06:42:14.913271Z",
     "shell.execute_reply.started": "2022-01-11T06:42:14.873428Z"
    }
   },
   "outputs": [],
   "source": [
    "from sklearn.metrics import f1_score, recall_score\n",
    "f1_score = round(f1_score(y_test, pred), 2)\n",
    "recall_score = round(recall_score(y_test, pred), 2)\n",
    "print(\"Sensitivity/Recall for Logistic Regression Model 1 : {recall_score}\".format(recall_score = recall_score))\n",
    "print(\"F1 Score for Logistic Regression Model 1 : {f1_score}\".format(f1_score = f1_score))"
   ]
  },
  {
   "cell_type": "code",
   "execution_count": null,
   "metadata": {
    "_uuid": "2681ff279819d241ec2cf683048e33a8f9e7d568",
    "collapsed": true,
    "jupyter": {
     "outputs_hidden": true
    }
   },
   "outputs": [],
   "source": []
  }
 ],
 "metadata": {
  "kernelspec": {
   "display_name": "Python 3",
   "language": "python",
   "name": "python3"
  },
  "language_info": {
   "codemirror_mode": {
    "name": "ipython",
    "version": 3
   },
   "file_extension": ".py",
   "mimetype": "text/x-python",
   "name": "python",
   "nbconvert_exporter": "python",
   "pygments_lexer": "ipython3",
   "version": "3.9.4"
  }
 },
 "nbformat": 4,
 "nbformat_minor": 4
}
